{
 "cells": [
  {
   "cell_type": "markdown",
   "metadata": {},
   "source": [
    "Question 1 :\n",
    "Write a program to subtract two complex numbers in Python.\n"
   ]
  },
  {
   "cell_type": "code",
   "execution_count": null,
   "metadata": {},
   "outputs": [],
   "source": [
    "x = 6 + 7j\n",
    "y = 3 + 4J\n",
    "\n",
    "subtract = x - y\n",
    "\n",
    "print(subtract)"
   ]
  },
  {
   "cell_type": "markdown",
   "metadata": {},
   "source": [
    "Question 2 :\n",
    "Write a program to find the fourth root of a number."
   ]
  },
  {
   "cell_type": "code",
   "execution_count": 4,
   "metadata": {},
   "outputs": [
    {
     "name": "stdout",
     "output_type": "stream",
     "text": [
      "2.114742526881128\n"
     ]
    }
   ],
   "source": [
    "x = 20\n",
    "\n",
    "fourth_root = x **(1/4)\n",
    "print(fourth_root)"
   ]
  },
  {
   "cell_type": "markdown",
   "metadata": {},
   "source": [
    "Question 3:\n",
    "Write a program to swap two numbers in Python with the help of a temporary variable."
   ]
  },
  {
   "cell_type": "code",
   "execution_count": 11,
   "metadata": {},
   "outputs": [
    {
     "name": "stdout",
     "output_type": "stream",
     "text": [
      "Before Swaping:\n",
      "num1 10 \n",
      "num2 5\n",
      "After Swaping\n",
      "num1 5 \n",
      "num2 10\n"
     ]
    }
   ],
   "source": [
    "num1 = 10\n",
    "num2 = 5\n",
    "\n",
    "print(\"Before Swaping:\\nnum1\",num1,\"\\nnum2\",num2)\n",
    "temp = num1\n",
    "num1 = num2\n",
    "num2 = temp\n",
    "\n",
    "print(\"After Swaping\\nnum1\",num1,\"\\nnum2\",num2)"
   ]
  },
  {
   "cell_type": "markdown",
   "metadata": {},
   "source": [
    "Question 4:\n",
    "Write a program to swap two numbers in Python without using a temporary variable."
   ]
  },
  {
   "cell_type": "code",
   "execution_count": 13,
   "metadata": {},
   "outputs": [
    {
     "name": "stdout",
     "output_type": "stream",
     "text": [
      "Before Swaping:\n",
      "num1 5 \n",
      "num2 10\n",
      "After Swaping\n",
      "num1 10 \n",
      "num2 5\n"
     ]
    }
   ],
   "source": [
    "num1 = 5\n",
    "num2 = 10\n",
    "print(\"Before Swaping:\\nnum1\",num1,\"\\nnum2\",num2)\n",
    "\n",
    "num1 = num1 + num2\n",
    "num2 = num1 - num2\n",
    "num1 = num1 - num2\n",
    "print(\"After Swaping\\nnum1\",num1,\"\\nnum2\",num2)"
   ]
  },
  {
   "cell_type": "markdown",
   "metadata": {},
   "source": [
    "Question 5:\n",
    "Write a program to convert fahrenheit to kelvin and celsius both."
   ]
  },
  {
   "cell_type": "code",
   "execution_count": 15,
   "metadata": {},
   "outputs": [
    {
     "name": "stdout",
     "output_type": "stream",
     "text": [
      "fahrenheit to kelvin 299.81666666666666\n",
      "fahrenheit to celsius 26.666666666666668\n"
     ]
    }
   ],
   "source": [
    "fahrenheit = 80\n",
    "kelvin = (fahrenheit - 32) * 5/9 + 273.15\n",
    "celsius = (fahrenheit - 32) * 5/9\n",
    "print(\"fahrenheit to kelvin\", kelvin)\n",
    "print(\"fahrenheit to celsius\", celsius)"
   ]
  },
  {
   "cell_type": "markdown",
   "metadata": {},
   "source": [
    "Question 6:\n",
    "Write a program to demonstrate all the available data types in Python. Hint: Use type() function."
   ]
  },
  {
   "cell_type": "code",
   "execution_count": 21,
   "metadata": {},
   "outputs": [
    {
     "name": "stdout",
     "output_type": "stream",
     "text": [
      "<class 'int'>\n",
      "<class 'float'>\n",
      "<class 'complex'>\n",
      "<class 'list'>\n",
      "<class 'set'>\n",
      "<class 'dict'>\n",
      "<class 'tuple'>\n",
      "<class 'str'>\n",
      "<class 'bool'>\n"
     ]
    }
   ],
   "source": [
    "print(type(4))\n",
    "print(type(4.0))\n",
    "print(type(4 + 5j))\n",
    "print(type([6,\"ankita\"]))\n",
    "print(type({1,3,4,5}))\n",
    "print(type({\"name\": \"Ankita\", \"country\": \"India\"}))\n",
    "print(type((3,4)))\n",
    "print(type(\"string\"))\n",
    "print(type(False))"
   ]
  },
  {
   "cell_type": "markdown",
   "metadata": {},
   "source": [
    "Question 7:\n",
    "Create a Markdown cell in jupyter and list the steps discussed in the session by Dr. Darshan\n",
    "Ingle sir to create Github profile and upload Githubs Assignment link."
   ]
  },
  {
   "cell_type": "markdown",
   "metadata": {},
   "source": [
    "1) Create github account and login.\\\n",
    "2) Go to repository section and click new to create new repository.\\\n",
    "3) Name the repository as \"LetsUpgrade AI-ML\" and description as \"Assignments\", make sure to keep the repository as public.\\\n",
    "4) Click on create repository.\\\n",
    "5) Go to your system and create a folder named as Day3.\\\n",
    "6) In Day3 folder create new .ipynb file and write your solutions inside .ipynb file and save.\\\n",
    "7) Go back to your github and click on \"LetsUpgrade AI-ML\" repository.\\\n",
    "8) Drag folder Day3 and drop on the \"LetsUpgrade AI-ML\" repository in browser from your desktop.\\\n",
    "9) Once files are added click on commit changes.\\\n",
    "10) Now browse inside the Day3 folder of \"LetsUpgrade AI-ML\" repository and copy URL from the browser.\\\n",
    "11) Go to \"Assignment Submit Form : https://bit.ly/aimlassignment\".\\\n",
    "12) Enter Registered E-mail, Name, Phone Number and paste the copied github URL in the \"Give Github URL\" section and click submit.\\"
   ]
  },
  {
   "cell_type": "code",
   "execution_count": null,
   "metadata": {},
   "outputs": [],
   "source": []
  }
 ],
 "metadata": {
  "kernelspec": {
   "display_name": "Python 3",
   "language": "python",
   "name": "python3"
  },
  "language_info": {
   "codemirror_mode": {
    "name": "ipython",
    "version": 3
   },
   "file_extension": ".py",
   "mimetype": "text/x-python",
   "name": "python",
   "nbconvert_exporter": "python",
   "pygments_lexer": "ipython3",
   "version": "3.7.4"
  }
 },
 "nbformat": 4,
 "nbformat_minor": 2
}
