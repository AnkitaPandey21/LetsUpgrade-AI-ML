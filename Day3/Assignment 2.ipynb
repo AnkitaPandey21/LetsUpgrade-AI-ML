{
 "cells": [
  {
   "cell_type": "markdown",
   "metadata": {},
   "source": [
    "Question 1 :\n",
    "Research on whether addition, subtraction, multiplication, division, floor division and modulo\n",
    "operations be performed on complex numbers. Based on your study, implement a Python\n",
    "program to demonstrate these operations."
   ]
  },
  {
   "cell_type": "code",
   "execution_count": 1,
   "metadata": {},
   "outputs": [
    {
     "name": "stdout",
     "output_type": "stream",
     "text": [
      "Addition (7+7j)\n",
      "Subtraction (1+3j)\n",
      "Multiplication (2+23j)\n",
      "Division (1.6923076923076923+0.5384615384615385j)\n",
      "Floor Division & Modulo operation is not permited on complex numbers\n"
     ]
    }
   ],
   "source": [
    "x = 4 + 5j\n",
    "y = 3 + 2j\n",
    "\n",
    "addition = x + y\n",
    "subtraction = x - y\n",
    "multiplication = x * y\n",
    "division = x / y\n",
    "print(\"Addition\", addition)\n",
    "print(\"Subtraction\", subtraction)\n",
    "print(\"Multiplication\", multiplication)\n",
    "print(\"Division\", division)\n",
    "print(\"Floor Division & Modulo operation is not permited on complex numbers\")"
   ]
  },
  {
   "cell_type": "markdown",
   "metadata": {},
   "source": [
    "Question 2 :\n",
    "Research on range() functions and its parameters. Create a markdown cell and write in your own\n",
    "words (no copy-paste from google please) what you understand about it. Implement a small\n",
    "program of your choice on the same."
   ]
  },
  {
   "cell_type": "markdown",
   "metadata": {},
   "source": [
    "range() function generate a series of number and can be very handy while working on loops in complex code. range function accept three argument, START, STOP and STEP. start take an integer value and start the series from that number by default it start from zero. STOP also accept a integer value and tells us till which number we need the series. Basically it is the stoping point of range function. STEP takes an integer argument and increment the series by same number, By default step size is 1."
   ]
  },
  {
   "cell_type": "code",
   "execution_count": 3,
   "metadata": {},
   "outputs": [
    {
     "name": "stdout",
     "output_type": "stream",
     "text": [
      "5\n",
      "6\n",
      "7\n",
      "8\n",
      "9\n",
      "10\n",
      "11\n",
      "12\n",
      "13\n",
      "14\n"
     ]
    }
   ],
   "source": [
    "x = range(5,15)\n",
    "for i in x:\n",
    "    print(i)"
   ]
  },
  {
   "cell_type": "code",
   "execution_count": 4,
   "metadata": {},
   "outputs": [
    {
     "name": "stdout",
     "output_type": "stream",
     "text": [
      "7\n",
      "9\n",
      "11\n",
      "13\n",
      "15\n",
      "17\n",
      "19\n",
      "21\n",
      "23\n"
     ]
    }
   ],
   "source": [
    "j = 5\n",
    "for i in range(2,20,2):\n",
    "    print(i + j)"
   ]
  },
  {
   "cell_type": "markdown",
   "metadata": {},
   "source": [
    "Question 3:\n",
    " Consider two numbers. Perform their subtraction and if the result of subtraction is greater than\n",
    "25, print their multiplication result else print their division result."
   ]
  },
  {
   "cell_type": "code",
   "execution_count": 5,
   "metadata": {},
   "outputs": [
    {
     "name": "stdout",
     "output_type": "stream",
     "text": [
      "Multiplication 1200\n"
     ]
    }
   ],
   "source": [
    "num1 = 60\n",
    "num2 = 20\n",
    "\n",
    "if num1 - num2 > 25:\n",
    "    print(\"Multiplication\", num1 * num2)\n",
    "else:\n",
    "    print(\"Division\", num1 / num2)"
   ]
  },
  {
   "cell_type": "code",
   "execution_count": 7,
   "metadata": {},
   "outputs": [
    {
     "name": "stdout",
     "output_type": "stream",
     "text": [
      "Division 1.5\n"
     ]
    }
   ],
   "source": [
    "num1 = 60\n",
    "num2 = 40\n",
    "\n",
    "if num1 - num2 > 25:\n",
    "    print(\"Multiplication\", num1 * num2)\n",
    "else:\n",
    "    print(\"Division\", num1 / num2)"
   ]
  },
  {
   "cell_type": "markdown",
   "metadata": {},
   "source": [
    "Question 4:\n",
    "Consider a list of 10 elements of integer values. If the number in the list is divisible by 2, print the\n",
    "result as \"square of that number minus 2\".\n"
   ]
  },
  {
   "cell_type": "code",
   "execution_count": 9,
   "metadata": {},
   "outputs": [
    {
     "name": "stdout",
     "output_type": "stream",
     "text": [
      "14\n",
      "34\n",
      "98\n",
      "62\n",
      "142\n",
      "194\n",
      "254\n",
      "322\n"
     ]
    }
   ],
   "source": [
    "elements = [4,6,5,10,8,12,14,9,16,18]\n",
    "\n",
    "for i in elements:\n",
    "    if (i % 2 == 0):\n",
    "        print((i ** 2)-2)"
   ]
  },
  {
   "cell_type": "markdown",
   "metadata": {},
   "source": [
    "Question 5:\n",
    "Consider a list of 10 elements. Print all the elements in the list which are greater than 7 when that\n",
    "number is divided 2."
   ]
  },
  {
   "cell_type": "code",
   "execution_count": 13,
   "metadata": {},
   "outputs": [
    {
     "name": "stdout",
     "output_type": "stream",
     "text": [
      "16\n",
      "18\n",
      "20\n",
      "22\n"
     ]
    }
   ],
   "source": [
    "element = [2,4,5,8,10,1,16,18,20,22] \n",
    "\n",
    "for i in element:\n",
    "    if (i / 2) > 7:\n",
    "        print(i)"
   ]
  },
  {
   "cell_type": "code",
   "execution_count": null,
   "metadata": {},
   "outputs": [],
   "source": []
  }
 ],
 "metadata": {
  "kernelspec": {
   "display_name": "Python 3",
   "language": "python",
   "name": "python3"
  },
  "language_info": {
   "codemirror_mode": {
    "name": "ipython",
    "version": 3
   },
   "file_extension": ".py",
   "mimetype": "text/x-python",
   "name": "python",
   "nbconvert_exporter": "python",
   "pygments_lexer": "ipython3",
   "version": "3.7.4"
  }
 },
 "nbformat": 4,
 "nbformat_minor": 2
}
