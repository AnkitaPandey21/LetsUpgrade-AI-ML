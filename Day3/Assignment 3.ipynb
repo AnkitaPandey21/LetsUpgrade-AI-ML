{
 "cells": [
  {
   "cell_type": "markdown",
   "metadata": {},
   "source": [
    "Question 1 :\n",
    "Write a Python program to find the first 20 non-even prime natural numbers."
   ]
  },
  {
   "cell_type": "code",
   "execution_count": 7,
   "metadata": {},
   "outputs": [
    {
     "name": "stdout",
     "output_type": "stream",
     "text": [
      "3\n",
      "5\n",
      "7\n",
      "11\n",
      "13\n",
      "17\n",
      "19\n",
      "23\n",
      "29\n",
      "31\n",
      "37\n",
      "41\n",
      "43\n",
      "47\n",
      "53\n",
      "59\n",
      "61\n",
      "67\n",
      "71\n",
      "73\n"
     ]
    }
   ],
   "source": [
    "count = 0\n",
    "start = 1\n",
    "end = 100\n",
    "for elements in range(start, end):\n",
    "    if elements > 1:\n",
    "        for j in range(2, elements // 2 + 2):\n",
    "            if (elements % j) == 0:\n",
    "                break\n",
    "            else:\n",
    "                if j == elements // 2 + 1:\n",
    "                    print(elements)\n",
    "                    count += 1\n",
    "                if count == 20:\n",
    "                    break"
   ]
  },
  {
   "cell_type": "markdown",
   "metadata": {},
   "source": [
    "Question 2 :\n",
    "Write a Python program to implement 15 functions of string."
   ]
  },
  {
   "cell_type": "code",
   "execution_count": 9,
   "metadata": {},
   "outputs": [],
   "source": [
    "string = \"most loved school learning app, AND is setting new benchmarks\""
   ]
  },
  {
   "cell_type": "code",
   "execution_count": 31,
   "metadata": {},
   "outputs": [
    {
     "name": "stdout",
     "output_type": "stream",
     "text": [
      "Most loved school learning app and is setting new benchmarks\n",
      "('most loved school learning ', 'app', ' and is setting new benchmarks')\n",
      "1\n",
      "27\n",
      "False\n",
      "False\n",
      "MOST LOVED SCHOOL LEARNING APP AND IS SETTING NEW BENCHMARKS\n",
      "most loved school learning app and is setting new benchmarks\n",
      "Most loved school learning app and is setting new benchmarks\n",
      "most loved school learning WEBSITE and is setting new benchmarks\n",
      "['most', 'loved', 'school', 'learning', 'app', 'and', 'is', 'setting', 'new', 'benchmarks']\n",
      "most loved school learning app and is setting new benchmarks\n",
      "Most Loved School Learning App And Is Setting New Benchmarks\n",
      "False\n",
      "['most loved school learning app and is setting new benchmarks']\n"
     ]
    }
   ],
   "source": [
    "print(string.capitalize())\n",
    "print(string.partition(\"app\"))\n",
    "print(string.count(\"app\"))\n",
    "print(string.index(\"app\"))\n",
    "print(string.isalpha())\n",
    "print(string.isalnum())\n",
    "print(string.upper())\n",
    "print(string.lower())\n",
    "print(string.capitalize())\n",
    "print(string.replace(\"app\",\"WEBSITE\"))\n",
    "print(string.split(\" \"))\n",
    "print(string.strip(\"\"))\n",
    "print(string.title())\n",
    "print(string.isdigit())\n",
    "print(string.splitlines())"
   ]
  },
  {
   "cell_type": "markdown",
   "metadata": {},
   "source": [
    "Question 3:\n",
    "Write a Python program to check if the given string is a Palindrome or Anagram or None of them.\n",
    "Display the message accordingly to the user."
   ]
  },
  {
   "cell_type": "code",
   "execution_count": 39,
   "metadata": {},
   "outputs": [
    {
     "name": "stdout",
     "output_type": "stream",
     "text": [
      "('LISTEN', '&', 'SILENT', 'is Anagram')\n",
      "('madam', 'is Palindrome')\n",
      "('racecar', 'is Palindrome')\n",
      "('LISTEN', 'is not Palindrome')\n"
     ]
    }
   ],
   "source": [
    "def anagram(str1, str2):\n",
    "    if sorted(str1) == sorted(str2):\n",
    "        return str1,\"&\",str2,\"is Anagram\"\n",
    "    else: \n",
    "        return str1,\"&\",str2,\"is not Anagram\"\n",
    "    \n",
    "def palindrome(str1):\n",
    "    if(str1==(str1[len(str1)::-1])):\n",
    "        return(str1,\"is Palindrome\")\n",
    "    else:\n",
    "        return(str1,\"is not Palindrome\")\n",
    "    \n",
    "print(anagram(\"LISTEN\", \"SILENT\"))\n",
    "print(palindrome(\"madam\"))\n",
    "print(palindrome(\"racecar\"))\n",
    "print(palindrome(\"LISTEN\"))"
   ]
  },
  {
   "cell_type": "markdown",
   "metadata": {},
   "source": [
    "Question 4:\n",
    "Write a Python's user defined function that removes all the additional characters from the string\n",
    "and converts it finally to lower case using built-in lower(). eg: If the string is \"Dr. Darshan Ingle\n",
    "@AI-ML Trainer\", then the output be \"drdarshaningleaimltrainer\""
   ]
  },
  {
   "cell_type": "code",
   "execution_count": 42,
   "metadata": {},
   "outputs": [],
   "source": [
    "def function(string):\n",
    "    final_string = \"\"\n",
    "    for character in string:\n",
    "        if character.isalpha():\n",
    "            final_string += character\n",
    "        final_string = final_string.lower() \n",
    "    return final_string"
   ]
  },
  {
   "cell_type": "code",
   "execution_count": 43,
   "metadata": {},
   "outputs": [
    {
     "data": {
      "text/plain": [
       "'drdarshaningleaimltrainer'"
      ]
     },
     "execution_count": 43,
     "metadata": {},
     "output_type": "execute_result"
    }
   ],
   "source": [
    "function(\"Dr. Darshan Ingle @AI-ML Trainer\")"
   ]
  },
  {
   "cell_type": "code",
   "execution_count": null,
   "metadata": {},
   "outputs": [],
   "source": []
  }
 ],
 "metadata": {
  "kernelspec": {
   "display_name": "Python 3",
   "language": "python",
   "name": "python3"
  },
  "language_info": {
   "codemirror_mode": {
    "name": "ipython",
    "version": 3
   },
   "file_extension": ".py",
   "mimetype": "text/x-python",
   "name": "python",
   "nbconvert_exporter": "python",
   "pygments_lexer": "ipython3",
   "version": "3.7.4"
  }
 },
 "nbformat": 4,
 "nbformat_minor": 2
}
